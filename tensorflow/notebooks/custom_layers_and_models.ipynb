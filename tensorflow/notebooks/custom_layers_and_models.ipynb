{
  "nbformat": 4,
  "nbformat_minor": 0,
  "metadata": {
    "colab": {
      "name": "custom_layers_and_models",
      "provenance": [],
      "collapsed_sections": [],
      "toc_visible": true,
      "include_colab_link": true
    },
    "kernelspec": {
      "display_name": "Python 3",
      "name": "python3"
    }
  },
  "cells": [
    {
      "cell_type": "markdown",
      "metadata": {
        "id": "view-in-github",
        "colab_type": "text"
      },
      "source": [
        "<a href=\"https://colab.research.google.com/github/orionpax00/projectAthena/blob/master/tensorflow/custom_layers_and_models.ipynb\" target=\"_parent\"><img src=\"https://colab.research.google.com/assets/colab-badge.svg\" alt=\"Open In Colab\"/></a>"
      ]
    },
    {
      "cell_type": "code",
      "metadata": {
        "id": "QCqK1xQuldtf",
        "colab_type": "code",
        "colab": {}
      },
      "source": [
        "%pip uninstall tensorflow\n",
        "%pip install tensorflow==2.0"
      ],
      "execution_count": 0,
      "outputs": []
    },
    {
      "cell_type": "code",
      "metadata": {
        "id": "_2SlEJoyj6rG",
        "colab_type": "code",
        "colab": {}
      },
      "source": [
        "from __future__ import  absolute_import, print_function"
      ],
      "execution_count": 0,
      "outputs": []
    },
    {
      "cell_type": "code",
      "metadata": {
        "id": "AckRqVbVkOiO",
        "colab_type": "code",
        "outputId": "b7929dd4-6e45-4931-b2a4-b54ec58e395f",
        "colab": {
          "base_uri": "https://localhost:8080/",
          "height": 34
        }
      },
      "source": [
        "import tensorflow as tf\n",
        "print(tf.__version__)"
      ],
      "execution_count": 2,
      "outputs": [
        {
          "output_type": "stream",
          "text": [
            "2.0.0\n"
          ],
          "name": "stdout"
        }
      ]
    },
    {
      "cell_type": "markdown",
      "metadata": {
        "id": "fdyGsiJ0uwW8",
        "colab_type": "text"
      },
      "source": [
        "## Custom Layers using keras base Layer class\n",
        "The best way to create a customized tensorflow layer is to extend the **tf.keras.layers.Layer** class\n",
        "\n",
        "**Note:** The advantage of creating variable in build is that it enables late variable creation based on the shape of the inputs the layer will operate on. On the other hand, creating variables in __init__ would mean that shapes required to create the variables will need to be explicitly specified."
      ]
    },
    {
      "cell_type": "code",
      "metadata": {
        "id": "z-CBzzP2ut92",
        "colab_type": "code",
        "colab": {}
      },
      "source": [
        "## Class base method of layer creation\n",
        "\n",
        "class myLayer(tf.keras.layers.Layer):\n",
        "\n",
        "  def __init__(self, num_outputs):\n",
        "    super(myLayer, self).__init__(name=\"myLayer\")\n",
        "    self.num_outputs = num_outputs\n",
        "\n",
        "  def build(self, input_shape):\n",
        "    self.kernel = self.add_variable(\"kernel\" , shape=(int(input_shape[-1]), self.num_outputs))\n",
        "\n",
        "  def call(self, input):\n",
        "    return tf.matmul(input, self.kernel)\n"
      ],
      "execution_count": 0,
      "outputs": []
    },
    {
      "cell_type": "code",
      "metadata": {
        "id": "fUrZ6bZn6mxX",
        "colab_type": "code",
        "colab": {}
      },
      "source": [
        "layer = myLayer(10)\n",
        "_ = layer(tf.zeros([10,5]))\n",
        "print(tf.zeros([10, 5]).numpy())\n",
        "print(_.numpy())"
      ],
      "execution_count": 0,
      "outputs": []
    },
    {
      "cell_type": "markdown",
      "metadata": {
        "id": "VpZTnifa7fNe",
        "colab_type": "text"
      },
      "source": [
        "So, what happend in last layer was we have input of (10,5) and kernel of (5, 10) \n",
        "\n",
        "---\n",
        "\n",
        "\n",
        "let, input matrix = I,\n",
        "Kernel matrix = K,\n",
        "output = O\n",
        "\n",
        "I*K = O <br>\n",
        "(10,5)(5,10) = (10,10)"
      ]
    },
    {
      "cell_type": "markdown",
      "metadata": {
        "id": "KlRNOOD-nEVr",
        "colab_type": "text"
      },
      "source": [
        "##Custom model using keras base model class\n",
        "\n",
        "Same method like layer building can also be used to build blocks which in turn called as models"
      ]
    },
    {
      "cell_type": "code",
      "metadata": {
        "id": "SXEOricRk7m2",
        "colab_type": "code",
        "colab": {}
      },
      "source": [
        "class myModel(tf.keras.Model):\n",
        "  \"\"\"\n",
        "    Base model \n",
        "  \"\"\"\n",
        "\n",
        "  def __init__(self):\n",
        "    super(myModel,self).__init__(name=\"\")\n",
        "\n",
        "    self.input_data = tf.keras.input.Input(shape(784,))\n",
        "\n",
        "    self.convLayer1 = tf.keras.layers.Conv1D(32, (2,2))\n",
        "    self.batchNormalization1 = tf.keras.layers.BatchNormalization()\n",
        "\n",
        "    self.convLayer2 = tf.keras.layers.Conv2D(64, (2,2))\n",
        "    self.batchNormalization2 = tf.keras.layers.BatchNormalization()\n",
        "\n",
        "\n",
        "  def call(self, input_tensor):\n",
        "    x = self.input_data(input_tensor)\n",
        "\n",
        "    x = self.convLayer1(x)\n",
        "    x = self.batchNormalization1(x)\n",
        "\n",
        "    x = self.convLayer2(x)\n",
        "    x = self.batchNormalization2(x)\n",
        "\n",
        "    return x\n",
        "\n"
      ],
      "execution_count": 0,
      "outputs": []
    },
    {
      "cell_type": "markdown",
      "metadata": {
        "id": "Sv_7dYLC-aWI",
        "colab_type": "text"
      },
      "source": [
        "## Implementing a LSTM Cell from sctrach\n",
        "The key to LSTMs is the cell state, the horizontal line running through the top of the diagram.\n",
        "\n",
        "The cell state is kind of like a conveyor belt. It runs straight down the entire chain, with only some minor linear interactions.\n",
        "![img](https://colah.github.io/images/post-covers/lstm.png)\n",
        "\n",
        "ref:[https://colah.github.io/posts/2015-08-Understanding-LSTMs/](https://colah.github.io/posts/2015-08-Understanding-LSTMs/)"
      ]
    },
    {
      "cell_type": "code",
      "metadata": {
        "id": "b8q6kiLI-e_e",
        "colab_type": "code",
        "colab": {}
      },
      "source": [
        "class myLSTMCell(tf.keras.layers.Layer):\n",
        "\n",
        "  def __init__(self, num_outputs):\n",
        "    super(myLSTMCell).__init__(name=\"mylstmcell\")\n",
        "\n",
        "    self.num_outputs = num_outputs\n",
        "  \n",
        "  def build(self, input_shape):\n",
        "    self.kernel = self.add_variable(\"kernel1\", shape=(input_shape[-1], self.num_outputs))\n",
        "\n",
        "  def call(self, input)\n",
        "\n",
        "    return "
      ],
      "execution_count": 0,
      "outputs": []
    }
  ]
}