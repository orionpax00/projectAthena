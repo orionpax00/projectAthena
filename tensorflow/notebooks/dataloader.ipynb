{
  "nbformat": 4,
  "nbformat_minor": 0,
  "metadata": {
    "colab": {
      "name": "Welcome To Colaboratory",
      "provenance": [],
      "collapsed_sections": [],
      "include_colab_link": true
    },
    "kernelspec": {
      "display_name": "Python 3",
      "name": "python3"
    }
  },
  "cells": [
    {
      "cell_type": "markdown",
      "metadata": {
        "id": "view-in-github",
        "colab_type": "text"
      },
      "source": [
        "<a href=\"https://colab.research.google.com/github/orionpax00/projectAthena/blob/master/tensorflow/dataloader.ipynb\" target=\"_parent\"><img src=\"https://colab.research.google.com/assets/colab-badge.svg\" alt=\"Open In Colab\"/></a>"
      ]
    },
    {
      "cell_type": "code",
      "metadata": {
        "id": "QCqK1xQuldtf",
        "colab_type": "code",
        "colab": {}
      },
      "source": [
        "%pip uninstall tensorflow\n",
        "%pip install tensorflow==2.0"
      ],
      "execution_count": 0,
      "outputs": []
    },
    {
      "cell_type": "code",
      "metadata": {
        "id": "_2SlEJoyj6rG",
        "colab_type": "code",
        "colab": {}
      },
      "source": [
        "from __future__ import  absolute_import, print_function"
      ],
      "execution_count": 0,
      "outputs": []
    },
    {
      "cell_type": "code",
      "metadata": {
        "id": "AckRqVbVkOiO",
        "colab_type": "code",
        "colab": {
          "base_uri": "https://localhost:8080/",
          "height": 35
        },
        "outputId": "6ca0664b-6b7c-4d75-ea71-d26be9855442"
      },
      "source": [
        "import tensorflow as tf\n",
        "print(tf.__version__)"
      ],
      "execution_count": 2,
      "outputs": [
        {
          "output_type": "stream",
          "text": [
            "2.0.0\n"
          ],
          "name": "stdout"
        }
      ]
    },
    {
      "cell_type": "markdown",
      "metadata": {
        "id": "fdyGsiJ0uwW8",
        "colab_type": "text"
      },
      "source": [
        "## Custom Layers using keras base Layer class"
      ]
    },
    {
      "cell_type": "code",
      "metadata": {
        "id": "z-CBzzP2ut92",
        "colab_type": "code",
        "colab": {}
      },
      "source": [
        ""
      ],
      "execution_count": 0,
      "outputs": []
    },
    {
      "cell_type": "markdown",
      "metadata": {
        "id": "KlRNOOD-nEVr",
        "colab_type": "text"
      },
      "source": [
        "##Custom model using keras base model class"
      ]
    },
    {
      "cell_type": "code",
      "metadata": {
        "id": "SXEOricRk7m2",
        "colab_type": "code",
        "colab": {}
      },
      "source": [
        "class myModel(tf.keras.Model):\n",
        "  \"\"\"\n",
        "    Base model \n",
        "  \"\"\"\n",
        "\n",
        "  def __init__(self):\n",
        "    super(myModel,self).__init__(name=\"\")\n",
        "\n",
        "    self.input_data = tf.keras.input.Input(shape(784,))\n",
        "\n",
        "    self.convLayer1 = tf.keras.layers.Conv1D(32, (2,2))\n",
        "    self.batchNormalization1 = tf.keras.layers.BatchNormalization()\n",
        "\n",
        "    self.convLayer2 = tf.keras.layers.Conv2D(64, (2,2))\n",
        "    self.batchNormalization2 = tf.keras.layers.BatchNormalization()\n",
        "\n",
        "\n",
        "    def call(self, input_tensor):\n",
        "      x = self.input_data(input_tensor)\n",
        "\n",
        "      x = self.convLayer1(x)\n",
        "      x = self.batchNormalization1(x)\n",
        "\n",
        "      x = self.convLayer2(x)\n",
        "      x = self.batchNormalization2(x)\n",
        "\n",
        "      return x\n",
        "\n"
      ],
      "execution_count": 0,
      "outputs": []
    },
    {
      "cell_type": "code",
      "metadata": {
        "id": "4tfrR5wam-iX",
        "colab_type": "code",
        "colab": {}
      },
      "source": [
        ""
      ],
      "execution_count": 0,
      "outputs": []
    }
  ]
}